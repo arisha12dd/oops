{
  "nbformat": 4,
  "nbformat_minor": 0,
  "metadata": {
    "colab": {
      "provenance": []
    },
    "kernelspec": {
      "name": "python3",
      "display_name": "Python 3"
    },
    "language_info": {
      "name": "python"
    }
  },
  "cells": [
    {
      "cell_type": "markdown",
      "source": [
        "                                  ** THEORY ANSWERS **"
      ],
      "metadata": {
        "id": "y9UaVFKTuSPx"
      }
    },
    {
      "cell_type": "markdown",
      "source": [
        "1.What is Object-Oriented Programming (OOP) ?\n",
        "\n",
        "Object-Oriented Programming (OOP) is a programming approach based on the concept of \"objects\", which contain data (attributes) and functions (methods). It helps organize code by grouping related data and behavior together, making it easier to understand, reuse, and maintain.\n",
        "\n",
        "Key features include:\n",
        "\n",
        "Encapsulation\n",
        "\n",
        "Inheritance\n",
        "\n",
        "Polymorphism\n",
        "\n"
      ],
      "metadata": {
        "id": "xLv-QNobmDQ_"
      }
    },
    {
      "cell_type": "markdown",
      "source": [
        " 2.What is a class in OOP ?\n",
        "\n",
        " In Object-Oriented Programming (OOP), a class is a blueprint or template for creating objects.\n",
        "\n",
        "It defines:\n",
        "\n",
        "Attributes (data) – also called variables or properties.\n",
        "\n",
        "Methods (functions) – behaviors or actions the object can perform.\n",
        "\n",
        "Example (in Python):\n",
        "python\n",
        "Copy\n",
        "Edit\n",
        "class Car:\n",
        "\n",
        "    def __init__(self, brand, color):\n",
        "\n",
        "        self.brand = brand      # attribute\n",
        "        self.color = color      # attribute\n",
        "\n",
        "    def drive(self):            # method\n",
        "        print(f\"The {self.color} {self.brand} is driving.\")\n"
      ],
      "metadata": {
        "id": "jwcSoDg6mDNf"
      }
    },
    {
      "cell_type": "markdown",
      "source": [
        "3. What is the difference between abstraction and encapsulation?\n",
        "\n",
        "Abstraction hides complex details and shows only the necessary parts. Encapsulation hides the data inside a class and restricts direct access to it.\n",
        "\n"
      ],
      "metadata": {
        "id": "9lb0BZBvmDKG"
      }
    },
    {
      "cell_type": "markdown",
      "source": [
        "4. What are dunder methods in Python?\n",
        "\n",
        "Dunder (double underscore) methods like __init__, __str__ are special methods used to customize how Python objects behave.\n",
        "\n"
      ],
      "metadata": {
        "id": "Uu658HpXmC-v"
      }
    },
    {
      "cell_type": "markdown",
      "source": [
        "5. Explain the concept of inheritance in OOP?\n",
        "\n",
        "Inheritance lets one class (child) use the properties and methods of another class (parent), promoting code reuse.\n",
        "\n"
      ],
      "metadata": {
        "id": "YUcHO9Acrrb_"
      }
    },
    {
      "cell_type": "markdown",
      "source": [
        "6. What is polymorphism in OOP?\n",
        "\n",
        "Polymorphism means using the same method name in different ways, like having multiple classes with a method named speak() that behaves differently.\n",
        "\n"
      ],
      "metadata": {
        "id": "bL4Dv3m5rrrL"
      }
    },
    {
      "cell_type": "markdown",
      "source": [
        "7. How is encapsulation achieved in Python?\n",
        "\n",
        "Encapsulation in Python is done by making attributes private using a single underscore _ or double underscore __, and then controlling access to them using getter and setter methods. This helps protect data from unintended changes.\n",
        "\n"
      ],
      "metadata": {
        "id": "4Z6WDVqGrsgn"
      }
    },
    {
      "cell_type": "markdown",
      "source": [
        "8. What is a constructor in Python?\n",
        "\n",
        "A constructor is a special method called __init__() in Python. It is automatically executed when a new object is created and is used to initialize the object’s attributes with default or user-provided values.\n",
        "\n"
      ],
      "metadata": {
        "id": "t7nUK8aNrtMi"
      }
    },
    {
      "cell_type": "markdown",
      "source": [
        "9. What are class and static methods in Python?\n",
        "\n",
        "A class method is defined using the classmethod decorator and takes the class itself (cls) as the first parameter. A static method is defined using @staticmethod and doesn’t take self or cls; it behaves like a regular function but lives inside the class.\n",
        "\n"
      ],
      "metadata": {
        "id": "SGWmVKznrtyY"
      }
    },
    {
      "cell_type": "markdown",
      "source": [
        "10. What is method overloading in Python?\n",
        "\n",
        "Python doesn’t support traditional method overloading (same method name with different parameters), but it can be simulated using default parameters or *args and **kwargs to accept various types or numbers of arguments.\n",
        "\n",
        "11. What is method overriding in OOP?\n",
        "\n",
        "Method overriding allows a subclass to provide a specific implementation of a method that is already defined in its superclass. This enables a child class to customize or completely change the behavior inherited from the parent class.\n",
        "\n",
        "12. What is a property decorator in Python?\n",
        "\n",
        "The @property decorator allows you to define a method in a class that can be accessed like an attribute. It’s commonly used to manage private variables and add logic when getting or setting their values.\n",
        "\n"
      ],
      "metadata": {
        "id": "gbBiZVxSrunA"
      }
    },
    {
      "cell_type": "markdown",
      "source": [
        "13. Why is polymorphism important in OOP?\n",
        "Polymorphism is important because it allows you to write code that works with objects of different classes in a general way. It makes code easier to extend, maintain, and reuse by allowing the same interface to be used for different types.\n",
        "\n",
        "14. What is an abstract class in Python?\n",
        "An abstract class is a class that cannot be instantiated and is used as a base for other classes. It can contain abstract methods (methods without implementation) that must be implemented by its child classes, using the abc module in Python.\n",
        "\n"
      ],
      "metadata": {
        "id": "6yU7Hw_ZrvXX"
      }
    },
    {
      "cell_type": "markdown",
      "source": [
        "15. What are the advantages of OOP?\n",
        "\n",
        "OOP offers many benefits such as better code organization, modularity, reusability, easier maintenance, and a way to model real-world problems more naturally using concepts like inheritance, polymorphism, encapsulation, and abstraction.\n",
        "\n"
      ],
      "metadata": {
        "id": "iY1cFFUBrv3b"
      }
    },
    {
      "cell_type": "markdown",
      "source": [
        "16. What is multiple inheritance in Python?\n",
        "\n",
        "Multiple inheritance is a feature where a class can inherit from more than one parent class. This allows a child class to combine the functionality of multiple base classes, but it can also lead to complexity, especially in resolving method names.\n",
        "\n"
      ],
      "metadata": {
        "id": "OASU9___tYAF"
      }
    },
    {
      "cell_type": "markdown",
      "source": [
        "17. What is the difference between a class variable and an instance variable?\n",
        "\n",
        "A class variable is shared among all instances of the class and is defined outside the __init__() method. An instance variable is unique to each object and is usually defined inside the constructor using self.\n",
        "\n",
        "18. Explain the purpose of __str__ and __repr__ methods in Python?\n",
        "\n",
        "The __str__() method returns a readable and user-friendly string representation of an object, used by print(). The __repr__() method returns an official or developer-friendly representation of the object, used for debugging.\n",
        "\n"
      ],
      "metadata": {
        "id": "HLHf94IhtXw3"
      }
    },
    {
      "cell_type": "markdown",
      "source": [
        "19. What is the significance of the super() function in Python?\n",
        "\n",
        "The super() function is used to call a method from the parent class. It’s commonly used in constructors to initialize the parent’s attributes without hardcoding the parent class name, helping maintain clean inheritance chains.\n",
        "\n",
        "20. What is the significance of the __del__ method in Python?\n",
        "\n",
        "The __del__() method is called when an object is about to be destroyed. It’s used to release resources, close files, or perform cleanup operations, but it’s not commonly used due to Python’s automatic garbage collection.\n",
        "\n"
      ],
      "metadata": {
        "id": "d40-1j_1tXUW"
      }
    },
    {
      "cell_type": "markdown",
      "source": [
        "21. What is the difference between @staticmethod and @classmethod in Python?\n",
        "\n",
        "A @staticmethod behaves like a regular function placed inside a class and does not have access to the instance or class. A @classmethod takes cls as its first parameter and can access and modify class-level variables.\n",
        "\n"
      ],
      "metadata": {
        "id": "4tcFIncEt4qv"
      }
    },
    {
      "cell_type": "markdown",
      "source": [
        "22. How does polymorphism work in Python with inheritance?\n",
        "\n",
        "In inheritance, polymorphism allows subclasses to have their own version of a method defined in the parent class. When the method is called on a child object, Python uses the child’s method, enabling dynamic and flexible code behavior.\n",
        "\n",
        "23. What is method chaining in Python OOP?\n",
        "\n",
        "Method chaining is when multiple methods are called on the same object in a single line, by having each method return the object (self). It leads to more compact and readable code.\n"
      ],
      "metadata": {
        "id": "aDdlXqtnt4fs"
      }
    },
    {
      "cell_type": "markdown",
      "source": [
        "24. What is the purpose of the __call__ method in Python?\n",
        "\n",
        "The __call__() method allows an object to be called like a function. It’s useful when you want an object to perform an action just by using parentheses, such as executing logic or returning a result.\n",
        "\n"
      ],
      "metadata": {
        "id": "TuNdiIOlt4T3"
      }
    },
    {
      "cell_type": "markdown",
      "source": [
        "                           PRACTICAl QUESTIONS"
      ],
      "metadata": {
        "id": "PiQGF6ZozvkN"
      }
    },
    {
      "cell_type": "code",
      "source": [
        " 1. Create a parent class Animal with a method speak() that prints a generic message. Create a child class Dog that overrides the speak() method to print \"Bark!\"\n",
        "# Step 1: Create the parent class\n",
        "class Animal:\n",
        "    def speak(self):\n",
        "        print(\"The animal makes a sound.\")\n",
        "\n",
        "# Step 2: Create the child class that inherits from Animal\n",
        "class Dog(Animal):\n",
        "    def speak(self):  # Overriding the speak() method\n",
        "        print(\"Bark!\")\n",
        "\n",
        "# Step 3: Create objects of each class\n",
        "a = Animal()\n",
        "d = Dog()\n",
        "\n",
        "# Step 4: Call the speak() method using both objects\n",
        "a.speak()  # Should print: The animal makes a sound.\n",
        "d.speak()  # Should print: Bark!\n",
        "\n"
      ],
      "metadata": {
        "id": "d1yl2EnZzvE6"
      },
      "execution_count": null,
      "outputs": []
    },
    {
      "cell_type": "code",
      "source": [
        "2. Write a program to create an abstract class Shape with a method area(). Derive classes Circle and Rectangle from it and implement the area() method in both.\n",
        "# Using abstract base class for shape\n",
        "from abc import ABC, abstractmethod\n",
        "\n",
        "class Shape(ABC):  # Abstract class\n",
        "    @abstractmethod\n",
        "    def area(self):\n",
        "        pass\n",
        "\n",
        "# Circle class\n",
        "class Circle(Shape):\n",
        "    def __init__(self, radius):\n",
        "        self.radius = radius\n",
        "\n",
        "    def area(self):\n",
        "        return 3.14 * self.radius ** 2\n",
        "\n",
        "# Rectangle class\n",
        "class Rectangle(Shape):\n",
        "    def __init__(self, length, width):\n",
        "        self.length = length\n",
        "        self.width = width\n",
        "\n",
        "    def area(self):\n",
        "        return self.length * self.width\n",
        "\n",
        "# Creating objects and testing\n",
        "c = Circle(5)\n",
        "r = Rectangle(4, 6)\n",
        "\n",
        "print(\"Circle Area:\", c.area())\n",
        "print(\"Rectangle Area:\", r.area())\n",
        "\n",
        "\n"
      ],
      "metadata": {
        "id": "Ew3QO4ch2mOQ"
      },
      "execution_count": null,
      "outputs": []
    },
    {
      "cell_type": "code",
      "source": [
        "3. Implement a multi-level inheritance scenario where a class Vehicle has an attribute type. Derive a class Car and further derive a class ElectricCar that adds a battery attribute.\n",
        "\n",
        "\n",
        "# Base class\n",
        "class Vehicle:\n",
        "    def __init__(self, vehicle_type):\n",
        "        self.vehicle_type = vehicle_type\n",
        "\n",
        "# First level derived class\n",
        "class Car(Vehicle):\n",
        "    def __init__(self, vehicle_type, brand):\n",
        "        super().__init__(vehicle_type)\n",
        "        self.brand = brand\n",
        "\n",
        "# Second level derived class\n",
        "class ElectricCar(Car):\n",
        "    def __init__(self, vehicle_type, brand, battery):\n",
        "        super().__init__(vehicle_type, brand)\n",
        "        self.battery = battery\n",
        "\n",
        "# Creating object and displaying info\n",
        "ecar = ElectricCar(\"4-wheeler\", \"Tesla\", \"100 kWh\")\n",
        "print(\"Vehicle Type:\", ecar.vehicle_type)\n",
        "print(\"Brand:\", ecar.brand)\n",
        "print(\"Battery:\", ecar.battery)"
      ],
      "metadata": {
        "id": "EzqDWXBa2VJU"
      },
      "execution_count": null,
      "outputs": []
    },
    {
      "cell_type": "code",
      "source": [
        "4. Demonstrate polymorphism by creating a base class Bird with a method fly(). Create two derived classes Sparrow and Penguin that override the fly() method.\n",
        "\n",
        "# Base class\n",
        "class Bird:\n",
        "    def fly(self):\n",
        "        print(\"Bird is flying.\")\n",
        "\n",
        "# Derived class Sparrow\n",
        "class Sparrow(Bird):\n",
        "    def fly(self):\n",
        "        print(\"Sparrow flies high.\")\n",
        "\n",
        "# Derived class Penguin\n",
        "class Penguin(Bird):\n",
        "    def fly(self):\n",
        "        print(\"Penguin cannot fly.\")\n",
        "\n",
        "# Testing\n",
        "b1 = Sparrow()\n",
        "b2 = Penguin()\n",
        "\n",
        "b1.fly()\n",
        "b2.fly()\n"
      ],
      "metadata": {
        "id": "gxMJeDX-2xqo"
      },
      "execution_count": null,
      "outputs": []
    },
    {
      "cell_type": "code",
      "source": [
        "5. Write a program to demonstrate encapsulation by creating a class BankAccount with private attributes balance and methods to deposit, withdraw, and check balance.\n",
        "\n",
        "\n",
        "# Encapsulation Example\n",
        "class BankAccount:\n",
        "    def __init__(self):\n",
        "        self.__balance = 0  # Private variable\n",
        "\n",
        "    def deposit(self, amount):\n",
        "        if amount > 0:\n",
        "            self.__balance += amount\n",
        "\n",
        "    def withdraw(self, amount):\n",
        "        if 0 < amount <= self.__balance:\n",
        "            self.__balance -= amount\n",
        "\n",
        "    def check_balance(self):\n",
        "        return self.__balance\n",
        "\n",
        "# Testing the class\n",
        "acc = BankAccount()\n",
        "acc.deposit(1000)\n",
        "acc.withdraw(400)\n",
        "print(\"Available Balance:\", acc.check_balance())\n"
      ],
      "metadata": {
        "id": "AUBT19lS2xzv"
      },
      "execution_count": null,
      "outputs": []
    },
    {
      "cell_type": "code",
      "source": [
        "6. Demonstrate runtime polymorphism using a method play() in a base class Instrument. Derive classes Guitar and Piano that implement their own version of play().\n",
        "\n",
        "\n",
        "# Base class\n",
        "class Instrument:\n",
        "    def play(self):\n",
        "        print(\"Instrument is being played.\")\n",
        "\n",
        "# Derived class\n",
        "class Guitar(Instrument):\n",
        "    def play(self):\n",
        "        print(\"Strumming the guitar.\")\n",
        "\n",
        "# Derived class\n",
        "class Piano(Instrument):\n",
        "    def play(self):\n",
        "        print(\"Playing the piano.\")\n",
        "\n",
        "# Runtime polymorphism\n",
        "def perform_play(instrument):\n",
        "    instrument.play()\n",
        "\n",
        "g = Guitar()\n",
        "p = Piano()\n",
        "\n",
        "perform_play(g)\n",
        "perform_play(p)"
      ],
      "metadata": {
        "id": "7oyqoEQz8HaP"
      },
      "execution_count": null,
      "outputs": []
    },
    {
      "cell_type": "code",
      "source": [
        "7. Create a class MathOperations with a class method add_numbers() to add two numbers and a static method subtract_numbers() to subtract two numbers.\n",
        "\n",
        "\n",
        "class MathOperations:\n",
        "    @classmethod\n",
        "    def add_numbers(cls, a, b):\n",
        "        return a + b\n",
        "\n",
        "    @staticmethod\n",
        "    def subtract_numbers(a, b):\n",
        "        return a - b\n",
        "\n",
        "# Testing\n",
        "print(\"Addition:\", MathOperations.add_numbers(10, 5))\n",
        "print(\"Subtraction:\", MathOperations.subtract_numbers(10, 5))"
      ],
      "metadata": {
        "id": "UnnBImM28SIa"
      },
      "execution_count": null,
      "outputs": []
    },
    {
      "cell_type": "code",
      "source": [
        "9.Write a class Fraction with attributes numerator and denominator. Override the __str__ method to display the fraction as \"numerator/denominator\".\n",
        "\n",
        "class Fraction:\n",
        "    def __init__(self, numerator, denominator):\n",
        "        self.numerator = numerator\n",
        "        self.denominator = denominator\n",
        "\n",
        "    def __str__(self):\n",
        "        return f\"{self.numerator}/{self.denominator}\"\n",
        "\n",
        "# Testing\n",
        "f = Fraction(3, 4)\n",
        "print(\"Fraction:\", f)"
      ],
      "metadata": {
        "id": "MgZrPwDW8rvs"
      },
      "execution_count": null,
      "outputs": []
    },
    {
      "cell_type": "code",
      "source": [
        "10. Demonstrate operator overloading by creating a class Vector and overriding the __add__ method to add two vectors.\n",
        "\n",
        "class Vector:\n",
        "    def __init__(self, x, y):\n",
        "        self.x = x\n",
        "        self.y = y\n",
        "\n",
        "    def __add__(self, other):\n",
        "        return Vector(self.x + other.x, self.y + other.y)\n",
        "\n",
        "    def __str__(self):\n",
        "        return f\"({self.x}, {self.y})\"\n",
        "\n",
        "# Creating vectors\n",
        "v1 = Vector(2, 3)\n",
        "v2 = Vector(4, 5)\n",
        "v3 = v1 + v2\n",
        "\n",
        "print(\"Resultant Vector:\", v3)"
      ],
      "metadata": {
        "id": "jeSYDBQv2x8S"
      },
      "execution_count": null,
      "outputs": []
    },
    {
      "cell_type": "code",
      "source": [
        "11. Create a class Person with attributes name and age. Add a method greet() that prints \"Hello, my name is {name} and I am {age} years old.\"\n",
        "class Person:\n",
        "    def __init__(self, name, age):\n",
        "        self.name = name\n",
        "        self.age = age\n",
        "\n",
        "    def greet(self):\n",
        "        print(f\"Hello, my name is {self.name} and I am {self.age} years old.\")\n",
        "\n",
        "# Testing\n",
        "p = Person(\"Arisha\", 22)\n",
        "p.greet()\n"
      ],
      "metadata": {
        "id": "D9TrYxW32y2B"
      },
      "execution_count": null,
      "outputs": []
    },
    {
      "cell_type": "code",
      "source": [
        "12. Implement a class Student with attributes name and grades. Create a method average_grade() to compute the average of the grades.\n",
        "\n",
        "class Student:\n",
        "    def __init__(self, name, grades):\n",
        "        self.name = name\n",
        "        self.grades = grades\n",
        "\n",
        "    def average_grade(self):\n",
        "        return sum(self.grades) / len(self.grades)\n",
        "\n",
        "# Testing\n",
        "s = Student(\"Ali\", [85, 90, 78])\n",
        "print(\"Average Grade:\", s.average_grade())\n",
        "13. Create a class Rectangle with methods"
      ],
      "metadata": {
        "id": "kmiFKAHa2yv4"
      },
      "execution_count": null,
      "outputs": []
    },
    {
      "cell_type": "code",
      "source": [
        "13. Create a class Rectangle with methods set_dimensions() to set the dimensions and area() to calculate the area.\n",
        "\n",
        "class Rectangle:\n",
        "    def set_dimensions(self, length, width):\n",
        "        self.length = length\n",
        "        self.width = width\n",
        "\n",
        "    def area(self):\n",
        "        return self.length * self.width\n",
        "\n",
        "# Testing\n",
        "rect = Rectangle()\n",
        "rect.set_dimensions(5, 4)\n",
        "print(\"Area of Rectangle:\", rect.area())\n"
      ],
      "metadata": {
        "id": "TYm6RIlo2yjw"
      },
      "execution_count": null,
      "outputs": []
    },
    {
      "cell_type": "code",
      "source": [
        "14. Create a class Employee with a method calculate_salary() that computes the salary based on hours worked and hourly rate. Create a derived class Manager that adds a bonus to the salary.\n",
        "\n",
        "class Employee:\n",
        "    def __init__(self, hours_worked, hourly_rate):\n",
        "        self.hours_worked = hours_worked\n",
        "        self.hourly_rate = hourly_rate\n",
        "\n",
        "    def calculate_salary(self):\n",
        "        return self.hours_worked * self.hourly_rate\n",
        "\n",
        "class Manager(Employee):\n",
        "    def __init__(self, hours_worked, hourly_rate, bonus):\n",
        "        super().__init__(hours_worked, hourly_rate)\n",
        "        self.bonus = bonus\n",
        "\n",
        "    def calculate_salary(self):\n",
        "        base_salary = super().calculate_salary()\n",
        "        return base_salary + self.bonus\n",
        "\n",
        "# Testing\n",
        "m = Manager(40, 50, 500)\n",
        "print(\"Manager's Salary:\", m.calculate_salary())"
      ],
      "metadata": {
        "id": "K6SgfxCN2ygQ"
      },
      "execution_count": null,
      "outputs": []
    },
    {
      "cell_type": "code",
      "source": [
        "15. Create a class Product with attributes name, price, and quantity. Implement a method total_price() that calculates the total price of the product.\n",
        "\n",
        "class Product:\n",
        "    def __init__(self, name, price, quantity):\n",
        "        self.name = name\n",
        "        self.price = price\n",
        "        self.quantity = quantity\n",
        "\n",
        "    def total_price(self):\n",
        "        return self.price * self.quantity\n",
        "\n",
        "# Testing\n",
        "p = Product(\"Phone\", 300, 2)\n",
        "print(\"Total Price:\", p.total_price())\n"
      ],
      "metadata": {
        "id": "isEfY_Hj7SjW"
      },
      "execution_count": null,
      "outputs": []
    },
    {
      "cell_type": "code",
      "source": [
        "16. Create a class Animal with an abstract method sound(). Create two derived classes Cow and Sheep that implement the sound() method\n",
        "\n",
        "class Animal(ABC):\n",
        "    @abstractmethod\n",
        "    def sound(self):\n",
        "        pass\n",
        "\n",
        "class Cow(Animal):\n",
        "    def sound(self):\n",
        "        print(\"Moo\")\n",
        "\n",
        "class Sheep(Animal):\n",
        "    def sound(self):\n",
        "        print(\"Baa\")\n",
        "\n",
        "# Testing\n",
        "c = Cow()\n",
        "s = Sheep()\n",
        "\n",
        "c.sound()\n",
        "s.sound()\n"
      ],
      "metadata": {
        "id": "2AIRaRCv7SXp"
      },
      "execution_count": null,
      "outputs": []
    },
    {
      "cell_type": "code",
      "source": [
        "17. Create a class Book with attributes title, author, and year_published. Add a method get_book_info() that returns a formatted string with the book's details.\n",
        "\n",
        "class Book:\n",
        "    def __init__(self, title, author, year_published):\n",
        "        self.title = title\n",
        "        self.author = author\n",
        "        self.year_published = year_published\n",
        "\n",
        "    def get_book_info(self):\n",
        "        return f\"'{self.title}' by {self.author}, published in {self.year_published}\"\n",
        "\n",
        "# Testing\n",
        "b = Book(\"Atomic Habits\", \"James Clear\", 2018)\n",
        "print(b.get_book_info())\n"
      ],
      "metadata": {
        "id": "7NCOywCC7SLq"
      },
      "execution_count": null,
      "outputs": []
    },
    {
      "cell_type": "code",
      "source": [
        "18. Create a class House with attributes address and price. Create a derived class Mansion that adds an attribute number_of_rooms.\n",
        "\n",
        "class House:\n",
        "    def __init__(self, address, price):\n",
        "        self.address = address\n",
        "        self.price = price\n",
        "\n",
        "class Mansion(House):\n",
        "    def __init__(self, address, price, number_of_rooms):\n",
        "        super().__init__(address, price)\n",
        "        self.number_of_rooms = number_of_rooms\n",
        "\n",
        "# Testing\n",
        "m = Mansion(\"Gulshan, Karachi\", 50000000, 10)\n",
        "print(\"Address:\", m.address)\n",
        "print(\"Price:\", m.price)\n",
        "print(\"Number of Rooms:\", m.number_of_rooms)\n"
      ],
      "metadata": {
        "id": "CNmjciie7R_M"
      },
      "execution_count": null,
      "outputs": []
    }
  ]
}